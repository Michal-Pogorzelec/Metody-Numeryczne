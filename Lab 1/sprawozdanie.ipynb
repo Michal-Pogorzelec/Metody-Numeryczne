{
 "cells": [
  {
   "cell_type": "markdown",
   "metadata": {
    "slideshow": {
     "slide_type": "notes"
    }
   },
   "source": [
    "# <center>Laboratorium 1<br>Metody Numeryczne</center>\n",
    "Laboratorium 1 Metody Numeryczne<br>\n",
    "Sprawozdanie <br>\n",
    "***Michał Pogorzelec***"
   ]
  },
  {
   "source": [
    "Biblioteki niezbędne do wykonania zadania:\n",
    "\n",
    "(wykonanie tego bloku zapewnia do nich dostęp w kolejnych blokach)"
   ],
   "cell_type": "markdown",
   "metadata": {}
  },
  {
   "source": [
    "import main\n",
    "\n",
    "import numpy as np\n",
    "import scipy\n",
    "from typing import List, Tuple, Union"
   ],
   "cell_type": "code",
   "metadata": {},
   "execution_count": 1,
   "outputs": []
  },
  {
   "source": [
    "Przydatne w trakcie zajęć mogą okazać się metody macierzy z pakietu Numpy, takie jak na przykład długość wektora - *[len]()* czy rozmiar macierzy -\n",
    "*[shape](https://docs.scipy.org/doc/numpy/reference/generated/numpy.ndarray.shape.html#numpy.ndarray.shape)*. Poniższy kod ilustruje ich podstawowe działanie. Dodatkowe metody obiektu $ndarray$ można znaleźć w oficjalnej *[dokumentacji](https://docs.scipy.org/doc/numpy/reference/arrays.ndarray.html)*."
   ],
   "cell_type": "markdown",
   "metadata": {}
  },
  {
   "cell_type": "code",
   "execution_count": 2,
   "metadata": {
    "tags": []
   },
   "outputs": [
    {
     "output_type": "stream",
     "name": "stdout",
     "text": "Wektor:\n[1 2 3]\nDługość: 3\nRozmiar: (3,) \n\nMacierz:\n[[1 2 3]\n [4 5 6]\n [7 8 9]]\nRozmiar: (3, 3)\n"
    }
   ],
   "source": [
    "vector = np.array([1, 2, 3])\n",
    "print('Wektor:')\n",
    "print(vector)\n",
    "print('Długość:', len(vector))\n",
    "print('Rozmiar:', vector.shape, '\\n')\n",
    "\n",
    "matrix = np.array([[1, 2, 3], [4, 5, 6], [7, 8, 9]])\n",
    "print('Macierz:')\n",
    "print(matrix)\n",
    "print('Rozmiar:', matrix.shape)"
   ]
  },
  {
   "cell_type": "markdown",
   "metadata": {},
   "source": [
    "***Zadanie 1.***  \n",
    "Zaimplementuj funkcję $cylinder\\_area$ tak by zwracała pole powierzchni walca o promieniu podstawy $r$ i wysokości $h$. Stała $\\pi$ jest zdefiniowana np. w bibliotece *[math](https://docs.python.org/3/library/math.html#constants)*. Jeżeli nie da się policzyć pola funkcja powinna zwracać wartość *NaN*. Sprawdź działanie zaimplementowanej funkcji dla dowolnych wartości w tym notatniku.\n",
    "\n",
    "***Rozwiązanie*** <br>\n",
    "Skorzystałem z biblioteki math, by uzyskać liczbę PI oraz by móc zwrócić\n",
    "wartość NaN."
   ]
  },
  {
   "cell_type": "code",
   "execution_count": 1,
   "outputs": [],
   "source": [
    "import math\n",
    "\n",
    "def cylinder_area(r: float, h: float) -> float:\n",
    "    \"\"\"Obliczenie pola powierzchni walca.\n",
    "\n",
    "    Parameters:\n",
    "    r (float): promień podstawy walca\n",
    "    h (float): wysokosć walca\n",
    "\n",
    "    Returns:\n",
    "    float: pole powierzchni walca\n",
    "    \"\"\"\n",
    "    if r < 0 or h < 0:\n",
    "        return math.nan\n",
    "    return (2 * math.pi * r * h) + (2 * math.pi * r**2)"
   ],
   "metadata": {
    "collapsed": false,
    "pycharm": {
     "name": "#%%\n"
    }
   }
  },
  {
   "cell_type": "markdown",
   "metadata": {},
   "source": [
    "***Zadanie 2.***  \n",
    "Wygeneruj dowolne ciągi arytmetyczny o kroku różnym od jeden i niebędącym liczbą całkowitą, używając w tym celu funkcji *[arange](https://docs.scipy.org/doc/numpy/reference/generated/numpy.arange.html)* oraz *[linspace](https://docs.scipy.org/doc/numpy-1.10.0/reference/generated/numpy.linspace.html)*. Wypisz go i przeanalizuj otrzymane rezultaty.\n",
    "\n",
    "***Rozwiązanie*** <br>\n",
    "Wypisuję dwa dowolne ciągi arytmetyczne o kroku różnym od jeden i nie będącym\n",
    "liczbą całkowitą. Korzystam z funkcji arange() i linspace() dostępnych w bibliotece numpy.\n",
    "Korzystając z funkcji arange() trzeba samodzielnie podać krok, ponieważ jego domyślna\n",
    "wartość to 1. Natomiast funkcja linspace() wybiera krok randomowo i jest to liczba zmiennoprzecinkowa."
   ]
  },
  {
   "cell_type": "code",
   "execution_count": null,
   "outputs": [],
   "source": [
    "fst_seq = np.arange(1, 10, 0.4)\n",
    "print(fst_seq)\n",
    "sec_seq = np.linspace(1, 10)\n",
    "print(sec_seq)"
   ],
   "metadata": {
    "collapsed": false,
    "pycharm": {
     "name": "#%%\n"
    }
   }
  },
  {
   "source": [
    "***Zadanie 3.***  \n",
    "Zaimplementuj funkcję $fib$ zwracającą wektor pierszych n elementów *[ciągu Fibonnaciego](https://pl.wikipedia.org/wiki/Ci%C4%85g_Fibonacciego)*, jeżeli nie jest to możliwe funkcja powinna zwrócić wartość *None*.\n",
    "\n",
    "***Rozwiązanie*** <br>\n",
    "Uzupełniłem ciało funkcji tak, by zwracało wektor n pierwszych elementów\n",
    "ciągu Fibbonnaciego. Skorzystałem z np.ndarray()"
   ],
   "cell_type": "markdown",
   "metadata": {}
  },
  {
   "cell_type": "code",
   "execution_count": null,
   "outputs": [],
   "source": [
    "def fib(n: int) -> Union[None, List[int], np.ndarray]:\n",
    "    \"\"\"Obliczenie pierwszych n wyrazów ciągu Fibonnaciego.\n",
    "\n",
    "    Parameters:\n",
    "    n (int): liczba określająca ilość wyrazów ciągu do obliczenia\n",
    "\n",
    "    Returns:\n",
    "    np.ndarray: wektor n pierwszych wyrazów ciągu Fibonnaciego.\n",
    "    \"\"\"\n",
    "\n",
    "    if n <= 0 or type(n) is not int:\n",
    "        return None\n",
    "    result = [1, 1]\n",
    "    if n == 1:\n",
    "        return [1]\n",
    "    for elem in range(0, n - 2):\n",
    "        result += [result[-1] + result[-2]]\n",
    "\n",
    "    return np.array([result])"
   ],
   "metadata": {
    "collapsed": false,
    "pycharm": {
     "name": "#%%\n"
    }
   }
  },
  {
   "cell_type": "markdown",
   "metadata": {},
   "source": [
    "***Zadanie 4.***  \n",
    "Napisz funkję $matrix\\_calculations$ która jako argument przyjmuje dowolną wartość liczbową *a* i tworzy macierz:  \n",
    "  \n",
    "$\\mathbf{M} =\\left[ \\begin{matrix}\n",
    "a & 1 & -a\\\\\n",
    "0 & 1 & 1\\\\\n",
    "-a & a & 1\n",
    "\\end{matrix}\\right]\n",
    "$    \n",
    "   \n",
    "Dla zadeklarowanej macierzy wyznacz numerycznie macierz odwrotną $\\mathbf{Minv}$ (jeżeli nie istnieje taka macierz wartość wynosi NaN), macierz transponowaną $\\mathbf{Mt}$ i wyznacznik macierzy $\\mathbf{Mdet}$. Zwróć otrzymane wartości w postaci krotki postaci $(\\mathbf{Minv}, \\mathbf{Mt}, \\mathbf{Mdet})$.  Wypisz otrzymane wyniki. \n",
    "  \n",
    "***Wskazówki:*** Do tworzenia obiektów mających własności macierzy w języku Python używa się klasy *[array](https://docs.scipy.org/doc/numpy-1.15.1/reference/generated/numpy.array.html)* z pakietu *[numpy](http://www.numpy.org/)*, przykładowe użycie:\n",
    "\n",
    "***Rozwiązanie*** <br>\n",
    "Funkcja która zwraca macierz odwrotną (lub NaN jeśli taka nie istnieje),\n",
    "macierz transponowaną i wyznacznik macierzy. Skorzystałem tu z funkcji\n",
    "(z bibliotek numpy oraz linalg) takich jak inv(), transpose() i det()."
   ]
  },
  {
   "cell_type": "code",
   "execution_count": null,
   "outputs": [],
   "source": [
    "def matrix_calculations(a: float) -> Tuple:\n",
    "    \"\"\"Funkcja zwraca wartości obliczeń na macierzy stworzonej\n",
    "    na podstawie parametru a.\n",
    "\n",
    "    Parameters:\n",
    "    a (float): wartość liczbowa\n",
    "\n",
    "    Returns:\n",
    "    touple: krotka zawierająca wyniki obliczeń\n",
    "    (Minv, Mt, Mdet) - opis parametrów w zadaniu 4.\n",
    "    \"\"\"\n",
    "\n",
    "    M = np.array([[a, 1, -a], [0, 1, 1], [-a, a, 1]])\n",
    "    Mdet = np.linalg.det(M)\n",
    "    if Mdet == 0:\n",
    "        Minv = math.nan\n",
    "    else:\n",
    "        Minv = np.linalg.inv(M)\n",
    "    Mt = np.transpose(M)\n",
    "\n",
    "    return Minv, Mt, Mdet"
   ],
   "metadata": {
    "collapsed": false,
    "pycharm": {
     "name": "#%%\n"
    }
   }
  },
  {
   "cell_type": "code",
   "execution_count": 3,
   "metadata": {
    "scrolled": true,
    "tags": []
   },
   "outputs": [
    {
     "output_type": "stream",
     "name": "stdout",
     "text": "Wektor poziomy:\n [1 2 3]\nWektor pionowy:\n [[1]\n [2]\n [3]]\nMacierz:\n [[1 2]\n [3 4]]\n"
    }
   ],
   "source": [
    "import numpy as np # słowo kluczowe \"as\" oznacza przesłania nazwę numpy i pozwala  \n",
    "a = np.array([1, 2, 3])\n",
    "b = np.array([[1], [2], [3]])\n",
    "A = np.array([[1,2],[3,4]])\n",
    "print(\"Wektor poziomy:\\n {0}\".format(a))\n",
    "print(\"Wektor pionowy:\\n {0}\".format(b))\n",
    "print(\"Macierz:\\n {0}\".format(A))"
   ]
  },
  {
   "cell_type": "markdown",
   "metadata": {},
   "source": [
    "Do wykonania operacji odwracania macierzy należy użyć funkcji *[inv](https://docs.scipy.org/doc/numpy/reference/generated/numpy.linalg.inv.html)*, do obliczenia wyznacznika macierzy stosuje się funkcję *[det](https://docs.scipy.org/doc/numpy-1.15.0/reference/generated/numpy.linalg.det.html)*  z bliblioteki *[linalg](https://docs.scipy.org/doc/numpy/reference/routines.linalg.html)*. Natomiast transpozycję macierzy wykonujemy przez funkcję *[transpose](https://docs.scipy.org/doc/numpy-1.14.0/reference/generated/numpy.transpose.html)* której skrucona wersja to $M.T$ z pakietu *numpy*.  \n",
    "    \n",
    "*Ciekawostka:* Python natywnie nie zawiera struktury danych typu tablica, na poziomie języka jest to rozwiązane poprzez strukturę listy list do której elementów odwołuje się poprzez indeksy jak w C/C++."
   ]
  },
  {
   "cell_type": "markdown",
   "metadata": {},
   "source": [
    "***Zadanie 5.***  \n",
    "Stwórz w noataniku macierz:  \n",
    "$\\mathbf{M} =\\left[ \\begin{matrix}\n",
    "3 & 1 & -2 & 4\\\\\n",
    "0 & 1 & 1 & 5\\\\\n",
    "-2 & 1 & 1 & 6\\\\\n",
    "4 & 3 & 0 & 1\\\\\n",
    "\\end{matrix}\\right]\n",
    "$   \n",
    "Wypisz przy pomocy funkcji *print* następujące elementy macierzy $\\mathbf{M}$: $\\mathbf{M}_{1,1},\\mathbf{M}_{3,3},\\mathbf{M}_{3,2}$. Zdefiniuj wektor $\\mathbf{w1}$ którego elementy to trzecia kolumna macierzy $\\mathbf{M}$ oraz wektor $\\mathbf{w2}$ który składa się z drugiego wiersza tej macierzy.  \n",
    "  \n",
    "***Wskazówki:***\n",
    "Tablice z pakietu *numpy* są indeksowane od zera a do każdego elementu można odwołać się poprzez jego indeks. Przykład użycie\n",
    "\n",
    "***Rozwiązanie*** <br>\n",
    "Po utworzeniu macierzy wypisuję jej poszczególne elementy, oraz definuję dwa\n",
    "wektory w1 i w2."
   ]
  },
  {
   "cell_type": "code",
   "execution_count": null,
   "outputs": [],
   "source": [
    "# [[3, 0, -2, 4], [1, 1, 1, 3], [-2, 1, 1, 0], [4, 5, 6, 1]]\n",
    "M = np.array([[3, 0, -2, 4], [1, 1, 1, 3], [-2, 1, 1, 0], [4, 5, 6, 1]])\n",
    "w1 = M[:, 2]\n",
    "w2 = M[1, :]\n",
    "print(\"Zadanie 5\")\n",
    "print(\"Macierz M:\\n{0}\".format(M))\n",
    "print(\"Wektor w1:\\n{0}\".format(w1))\n",
    "print(\"Wektor w2:\\n{0}\".format(w2))\n",
    "print(\"Element [1,1]:\\n{0}\".format(M[0, 0]))\n",
    "print(\"Element [3,3]:\\n{0}\".format(M[2, 2]))\n",
    "print(\"Element [3,2]:\\n{0}\".format(M[2, 1]))\n",
    "print(\"\\n\")"
   ],
   "metadata": {
    "collapsed": false,
    "pycharm": {
     "name": "#%%\n"
    }
   }
  },
  {
   "cell_type": "code",
   "execution_count": 4,
   "metadata": {
    "tags": []
   },
   "outputs": [
    {
     "output_type": "stream",
     "name": "stdout",
     "text": "Macierz P=\n[[1 3 2]\n [3 4 6]\n [7 8 9]]\nElementy trzeciej kolumny:\n [2 6 9]\nElementy trzeciego wiersza:\n [7 8 9]\n"
    }
   ],
   "source": [
    "# Inicjalizacja macierzy do przykładu\n",
    "P = np.array([[1,3,2],[3,4, 6],[7,8,9]])\n",
    "print(\"Macierz P=\\n{0}\".format(P))\n",
    "# wyciągnięcie trzeciej kolumny \n",
    "wektor1 = P[:,2]\n",
    "# wyciągnięcie trzeciego wiersza \n",
    "wektor2 = P[2,:]\n",
    "print(\"Elementy trzeciej kolumny:\\n {0}\".format(wektor1))\n",
    "print(\"Elementy trzeciego wiersza:\\n {0}\".format(wektor2))"
   ]
  },
  {
   "cell_type": "markdown",
   "metadata": {},
   "source": [
    "Dodatkowo twórcy biblioteki umożliwiają użytkownikowi na manipulację elementami tablicy poprzez operator ':', więcej szczegółów na temat jego użycia w artykule [NumPy for Matlab users](https://docs.scipy.org/doc/numpy/user/numpy-for-matlab-users.html#numpy-for-matlab-users)."
   ]
  },
  {
   "source": [
    "***Zadanie 6.***   \n",
    "Uzupełnij funkcję $custom\\_matrix$, tak by parametry m, n określały wymiary macierzy wynikowej, która\n",
    "będzie wypełniona w/g algorytmu: jeśli indeks wiersza jest większy od indeksu kolumny\n",
    "wartością komórki jest indeks wiersza, w przeciwnym wypadku wartością komórki jest indeks\n",
    "kolumny. Funkcja jako wynik powinna zwracać uzupełnioną macierz, jeżeli nie jest to możliwe to powinna zwrócić *None*. Na koniec wyświetlić wynikową macierz dla dowolnych argumentów $m$, $n$ z przedziału $\\langle3,7\\rangle$.\n",
    "  \n",
    "***Wskazówka:*** Inicjalizacja pustej macierz wykonywana jest w pakiecie Numpy przy pomocy funkcji  *[zeros](https://docs.scipy.org/doc/numpy-1.15.0/reference/generated/numpy.zeros.html)*, zaś macierzy składającej się z jedynek *[ones](https://docs.scipy.org/doc/numpy/reference/generated/numpy.ones.html)*.\n",
    "\n",
    "***Rozwiązanie*** <br>\n",
    "Napisałem tak logikę funkcji by działała zgodnie z założeniami. Skorzystałem\n",
    "z funkcji zeros(), do stworzenia macierzy zerowej, następnie każdy element zastępowałem\n",
    "zgodnie z podanym algorytmem."
   ],
   "cell_type": "markdown",
   "metadata": {}
  },
  {
   "cell_type": "code",
   "execution_count": null,
   "outputs": [],
   "source": [
    "def custom_matrix(m: int, n: int):\n",
    "    \"\"\"Funkcja zwraca macierz o wymiarze mxn zgodnie\n",
    "\n",
    "    Parameters:\n",
    "    m (int): ilość wierszy macierzy\n",
    "    n (int): ilość kolumn macierzy\n",
    "\n",
    "    Returns:\n",
    "    np.ndarray: macierz zgodna z opisem z zadania 7.\n",
    "    \"\"\"\n",
    "    if type(m) == float or type(n) == float:\n",
    "        return None\n",
    "    if m <= 0 or n <= 0:\n",
    "        return None\n",
    "    result = np.zeros((m, n))\n",
    "    for row_ind in range(m):\n",
    "        for col_ind in range(n):\n",
    "            if row_ind > col_ind:\n",
    "                result[row_ind][col_ind] = row_ind\n",
    "            else:\n",
    "                result[row_ind][col_ind] = col_ind\n",
    "    return result\n",
    "print(custom_matrix(4,6))"
   ],
   "metadata": {
    "collapsed": false,
    "pycharm": {
     "name": "#%%\n"
    }
   }
  },
  {
   "cell_type": "code",
   "execution_count": 5,
   "metadata": {
    "tags": []
   },
   "outputs": [
    {
     "output_type": "stream",
     "name": "stdout",
     "text": "zero_matrix: \n[[0. 0.]\n [0. 0.]]\nones_matrix: \n[[1.]\n [1.]\n [1.]]\n"
    }
   ],
   "source": [
    "zero_matrix = np.zeros((2, 2))\n",
    "ones_matrix = np.ones((3,1))\n",
    "\n",
    "print('zero_matrix: \\n{}'.format(zero_matrix))\n",
    "print('ones_matrix: \\n{}'.format(ones_matrix))"
   ]
  },
  {
   "source": [
    "***Zadanie 7.***\n",
    "\n",
    "Biblioteka Numpy posiada własne metody, pozwalające na szybsze i wygotniejsze wykonywanie operacji na wektorach i macierzach. Kolejne zadania mają na celu przećwiczenie tych metod. Zamiast samemu implementować mnożenie macierzy, należy skorzystać właśnie z wbudowanych funkcji Numpy. Najbardzie podstawowe z nich to *[np.multiply](https://docs.scipy.org/doc/numpy-1.15.0/reference/generated/numpy.multiply.html)*, *[np.dot](https://docs.scipy.org/doc/numpy-1.15.0/reference/generated/numpy.dot.html)* oraz *[np.matmul](https://docs.scipy.org/doc/numpy-1.15.1/reference/generated/numpy.matmul.html)*. Przed wykonaniem zadania należy zapoznać się z ich dokumentacją, aby stosować poprawną funkcję do danego typu mnożenia. Dodatkowo ciekawą i użyteczną funkcjonalnością Numpy, wykorzystywaną niekiedy przy dodawaniu macierzy jest *broadcasting*, proszę o zapoznaie się z opisem:  *[[1]](https://docs.scipy.org/doc/numpy-1.15.0/user/basics.broadcasting.html)* *[[2]](https://www.tutorialspoint.com/numpy/numpy_broadcasting.htm)*.\n",
    "\n",
    "Zainicjalizować dwa wektory $v_1$ i $v_2$:\n",
    "\n",
    "$v_1 = \\begin{bmatrix}1\\\\3\\\\13\\end{bmatrix} \\quad v_2 = \\begin{bmatrix}8\\\\5\\\\-2\\end{bmatrix}$\n",
    "\n",
    "Następnie wykonać operacje i wypisać ich wynik:\n",
    "- $4*v_1$\n",
    "- $-v_2 + \\begin{bmatrix}2\\\\2\\\\2\\end{bmatrix}$\n",
    "- $v_1 \\circ v_2$ (w sensie mnożenia macierzy, tzw. mnożenie macierzy w sensie Cauchy’ego)\n",
    "- $v_1 * v_2$ (w sensie mnożenia Hadamarda (element-wise))\n",
    "\n",
    "***Wskazówki:*** Warto wiedzieć o *[np.dot](https://docs.scipy.org/doc/numpy-1.15.0/reference/generated/numpy.dot.html)* i *[np.multiply](https://docs.scipy.org/doc/numpy-1.15.0/reference/generated/numpy.multiply.html)*. Zbadać jak zachowuje się przeciążony operator mnożenia $*$ oraz $@$ dla macierzy $ndarray$.\n",
    "\n",
    "***Rozwiązanie*** <br>\n",
    "Zdefiniowałem dwa wektory, następnie przeprowadziłem na nich parę operacji.\n",
    "Przydatne okazały się funkcje multiply(), dot() oraz broadcasting typowy dla biblioteki numpy."
   ],
   "cell_type": "markdown",
   "metadata": {}
  },
  {
   "cell_type": "code",
   "execution_count": null,
   "outputs": [],
   "source": [
    "v1 = np.array([1, 3, 13])\n",
    "v2 = np.array([8, 5, -2])\n",
    "\n",
    "result1 = np.multiply(4, v1)\n",
    "# skorzystanie z własności broadcastingu\n",
    "result2 = np.multiply(v2, -1) + 2\n",
    "result3 = np.dot(v1, v2)\n",
    "result4 = np.multiply(v1, v2)\n",
    "print(\"Zadanie 7\")\n",
    "print(f\"Result 1:\\n{result1}\")\n",
    "print(f\"Result 2:\\n{result2}\")\n",
    "print(f\"Result 3:\\n{result3}\")\n",
    "print(f\"Result 4:\\n{result4}\")"
   ],
   "metadata": {
    "collapsed": false,
    "pycharm": {
     "name": "#%%\n"
    }
   }
  },
  {
   "source": [
    "***Zadanie 8.***\n",
    "Zainicjalizować macierz $M_1$:\n",
    "\n",
    "$M_1 = \\begin{bmatrix}1&-7&3\\\\-12&3&4\\\\5&13&-3\\end{bmatrix}$\n",
    "\n",
    "Następnie wykonać operacje i wypisać ich wynik:\n",
    "- $3M_1$\n",
    "- $3M_1 + \\begin{bmatrix}1&1&1\\\\1&1&1\\\\1&1&1\\end{bmatrix}$\n",
    "- $M_1^T$\n",
    "- $M_1 \\circ v_1$ \n",
    "- $v_2^T \\circ M_1$\n",
    "\n",
    "***Rozwiązanie*** <br>\n",
    "Do poprzednich dwóch wektorów dołożyłem nową macierz na której również\n",
    "przeprowadziłem parę operacji. Kluczowa była funkcja multiply(),\n",
    "przydał się również broadcasting jak i funkcja transpose()."
   ],
   "cell_type": "markdown",
   "metadata": {}
  },
  {
   "cell_type": "code",
   "execution_count": null,
   "outputs": [],
   "source": [
    "M1 = np.array([[1, -7, 3], [-12, 3, 4], [5, 13, -3]])\n",
    "result5 = np.multiply(M1, 3)\n",
    "# skorzystanie z własności broadcastingu\n",
    "result6 = M1 + 1\n",
    "result7 = M1.transpose()\n",
    "result8 = np.multiply(M1, v1)\n",
    "result9 = np.multiply(v2.transpose(), M1)\n",
    "print(\"Zadanie 8\")\n",
    "print(f\"Result 5:\\n{result5}\")\n",
    "print(f\"Result 6:\\n{result6}\")\n",
    "print(f\"Result 7:\\n{result7}\")\n",
    "print(f\"Result 8:\\n{result8}\")\n",
    "print(f\"Result 9:\\n{result9}\")"
   ],
   "metadata": {
    "collapsed": false,
    "pycharm": {
     "name": "#%%\n"
    }
   }
  },
  {
   "cell_type": "markdown",
   "source": [
    "***3. Wnioski***\n",
    "\n",
    "Dzięki powyższym zadaniom nauczyłem się wykorzystywać bibliotekę numpy do\n",
    "działań na macierzach i wektorach. Poznałem wiele ciekawych funkcji i właściwości,\n",
    "takich jak chociażby broadcasting (termin ten polega na traktowaniu przez numpy macierzy o różnych wymiarach\n",
    "podczas operacji arytmetycznych, np. dodając liczbę 1 do jakiejś macierzy,\n",
    "numpy rozszerza tę liczbę do macierzy jedynkowej o wymiarach takich samych jak macierz do której dodajemy).\n",
    "Przypomniałem sobie zasady type hintingu, oraz nauczyłem się korzystać z Jupytera.\n",
    "Zapoznałem się także bliżej z dokumentacją biblioteki numpy.\n",
    "\n",
    "P.S. <br>\n",
    "Pliki jupyterowe na GitHubie nie działają w 100% poprawnie,\n",
    "np. w moim sprawozdaniu nie widać tytułu na samej górze dokumentu."
   ],
   "metadata": {
    "collapsed": false
   }
  },
  {
   "cell_type": "markdown",
   "source": [
    "Materiały uzupełniające:\n",
    "- [Scipy Lecture Notes](http://www.scipy-lectures.org/index.html)\n",
    "- [NumPy for Matlab users](https://docs.scipy.org/doc/numpy/user/numpy-for-matlab-users.html#numpy-for-matlab-users)\n",
    "- [Python Tutorial - W3Schools](https://www.w3schools.com/python/default.asp)\n",
    "- [NumPy](https://www.numpy.org)\n",
    "- [Matplotlib](https://matplotlib.org/)\n",
    "- [Anaconda](https://www.anaconda.com/)\n",
    "- [Learn Python for Data Science](https://www.datacamp.com/learn-python-with-anaconda?utm_source=Anaconda_download&utm_campaign=datacamp_training&utm_medium=banner)\n",
    "- [Learn Python](https://www.learnpython.org/)\n",
    "- [Wujek Google](https://google.pl) i [Ciocia Wikipedia](https://pl.wikipedia.org/wiki/Wikipedia:Strona_g%C5%82%C3%B3wna)"
   ],
   "metadata": {
    "collapsed": false,
    "pycharm": {
     "name": "#%% md\n"
    }
   }
  }
 ],
 "metadata": {
  "celltoolbar": "Raw Cell Format",
  "kernelspec": {
   "display_name": "Python 3",
   "language": "python",
   "name": "python3"
  },
  "language_info": {
   "codemirror_mode": {
    "name": "ipython",
    "version": 3
   },
   "file_extension": ".py",
   "mimetype": "text/x-python",
   "name": "python",
   "nbconvert_exporter": "python",
   "pygments_lexer": "ipython3",
   "version": "3.7.9-final"
  }
 },
 "nbformat": 4,
 "nbformat_minor": 2
}